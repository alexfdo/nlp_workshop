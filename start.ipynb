{
 "cells": [
  {
   "cell_type": "markdown",
   "metadata": {},
   "source": [
    "Меня зовут Юрий Бабуров\n",
    "\n",
    "Я программист-консультант, работаю с российскими и международными компаниями.\n",
    "\n",
    "Преимущественно я занимаюсь Deep Learning для текстов и речи.\n",
    "(А ещё: Web API, web scrapping, heuristics, specialized search engines, ... ) \n",
    "\n",
    "Сегодня мы поговорим о создании классификаторов для задач NLP.\n",
    "\n",
    "Мы возьмём типичную задачу и попробуем несколько разных способов её решения:\n",
    " - Scipy (LinearSVC, LinearRegression)\n",
    " - FastText supervised\n",
    " - своя нейронная сеть."
   ]
  }
 ],
 "metadata": {
  "kernelspec": {
   "display_name": "Python 3",
   "language": "python",
   "name": "python3"
  },
  "language_info": {
   "codemirror_mode": {
    "name": "ipython",
    "version": 3
   },
   "file_extension": ".py",
   "mimetype": "text/x-python",
   "name": "python",
   "nbconvert_exporter": "python",
   "pygments_lexer": "ipython3",
   "version": "3.6.8"
  }
 },
 "nbformat": 4,
 "nbformat_minor": 2
}
